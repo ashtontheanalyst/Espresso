{
 "cells": [
  {
   "cell_type": "markdown",
   "id": "236b473b",
   "metadata": {},
   "source": [
    "# Espresso Tracking with Metrics and Pretty Stuff"
   ]
  },
  {
   "cell_type": "code",
   "execution_count": 2,
   "id": "92ebc68e",
   "metadata": {},
   "outputs": [],
   "source": [
    "import pandas as pd"
   ]
  },
  {
   "cell_type": "code",
   "execution_count": 10,
   "id": "b72bd692",
   "metadata": {},
   "outputs": [
    {
     "data": {
      "text/html": [
       "<div>\n",
       "<style scoped>\n",
       "    .dataframe tbody tr th:only-of-type {\n",
       "        vertical-align: middle;\n",
       "    }\n",
       "\n",
       "    .dataframe tbody tr th {\n",
       "        vertical-align: top;\n",
       "    }\n",
       "\n",
       "    .dataframe thead th {\n",
       "        text-align: right;\n",
       "    }\n",
       "</style>\n",
       "<table border=\"1\" class=\"dataframe\">\n",
       "  <thead>\n",
       "    <tr style=\"text-align: right;\">\n",
       "      <th></th>\n",
       "      <th>Date (xx/xx/xx)</th>\n",
       "      <th>Time (xx:xx)</th>\n",
       "      <th>Beans</th>\n",
       "      <th>Beans before Grind (g)</th>\n",
       "      <th>Beans after Grind (g)</th>\n",
       "      <th>Pour Time (sec)</th>\n",
       "      <th>Pour Weight (g)</th>\n",
       "    </tr>\n",
       "  </thead>\n",
       "  <tbody>\n",
       "    <tr>\n",
       "      <th>0</th>\n",
       "      <td>06/11/25</td>\n",
       "      <td>18:43</td>\n",
       "      <td>HEB Brand 'Espresso' Whole</td>\n",
       "      <td>18</td>\n",
       "      <td>17</td>\n",
       "      <td>18</td>\n",
       "      <td>30</td>\n",
       "    </tr>\n",
       "    <tr>\n",
       "      <th>1</th>\n",
       "      <td>06/12/25</td>\n",
       "      <td>07:35</td>\n",
       "      <td>HEB Brand 'Espresso' Whole</td>\n",
       "      <td>18</td>\n",
       "      <td>16</td>\n",
       "      <td>25</td>\n",
       "      <td>40</td>\n",
       "    </tr>\n",
       "  </tbody>\n",
       "</table>\n",
       "</div>"
      ],
      "text/plain": [
       "  Date (xx/xx/xx) Time (xx:xx)                       Beans  \\\n",
       "0        06/11/25        18:43  HEB Brand 'Espresso' Whole   \n",
       "1        06/12/25        07:35  HEB Brand 'Espresso' Whole   \n",
       "\n",
       "   Beans before Grind (g)  Beans after Grind (g)  Pour Time (sec)  \\\n",
       "0                      18                     17               18   \n",
       "1                      18                     16               25   \n",
       "\n",
       "   Pour Weight (g)  \n",
       "0               30  \n",
       "1               40  "
      ]
     },
     "execution_count": 10,
     "metadata": {},
     "output_type": "execute_result"
    }
   ],
   "source": [
    "# Importing Google Sheet\n",
    "\n",
    "sheetName = \"EspressoTracker\"\n",
    "sheetID = \"1QKe35mxrdCpQ37INgrker8umBf5o3EsWHfDWStIRg2s\"\n",
    "url = f\"https://docs.google.com/spreadsheets/d/{sheetID}/gviz/tq?tqx=out:csv&sheet={sheetName}\"\n",
    "\n",
    "esp = pd.read_csv(url)\n",
    "esp.head()"
   ]
  }
 ],
 "metadata": {
  "kernelspec": {
   "display_name": "myenv",
   "language": "python",
   "name": "python3"
  },
  "language_info": {
   "codemirror_mode": {
    "name": "ipython",
    "version": 3
   },
   "file_extension": ".py",
   "mimetype": "text/x-python",
   "name": "python",
   "nbconvert_exporter": "python",
   "pygments_lexer": "ipython3",
   "version": "3.13.1"
  }
 },
 "nbformat": 4,
 "nbformat_minor": 5
}
