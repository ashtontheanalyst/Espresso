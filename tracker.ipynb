{
 "cells": [
  {
   "cell_type": "markdown",
   "id": "236b473b",
   "metadata": {},
   "source": [
    "# Espresso Tracking with Metrics and Pretty Stuff"
   ]
  },
  {
   "cell_type": "code",
   "execution_count": 17,
   "id": "92ebc68e",
   "metadata": {},
   "outputs": [],
   "source": [
    "import pandas as pd\n",
    "import matplotlib.pyplot as plt"
   ]
  },
  {
   "cell_type": "markdown",
   "id": "0e486f60",
   "metadata": {},
   "source": [
    "#### Importing the Data from Google Sheets"
   ]
  },
  {
   "cell_type": "code",
   "execution_count": 26,
   "id": "b72bd692",
   "metadata": {},
   "outputs": [
    {
     "data": {
      "text/html": [
       "<div>\n",
       "<style scoped>\n",
       "    .dataframe tbody tr th:only-of-type {\n",
       "        vertical-align: middle;\n",
       "    }\n",
       "\n",
       "    .dataframe tbody tr th {\n",
       "        vertical-align: top;\n",
       "    }\n",
       "\n",
       "    .dataframe thead th {\n",
       "        text-align: right;\n",
       "    }\n",
       "</style>\n",
       "<table border=\"1\" class=\"dataframe\">\n",
       "  <thead>\n",
       "    <tr style=\"text-align: right;\">\n",
       "      <th></th>\n",
       "      <th>Beans before Grind (g)</th>\n",
       "      <th>Beans after Grind (g)</th>\n",
       "      <th>Pour Time (sec)</th>\n",
       "      <th>Pour Weight (g)</th>\n",
       "      <th>Datetime</th>\n",
       "    </tr>\n",
       "  </thead>\n",
       "  <tbody>\n",
       "    <tr>\n",
       "      <th>count</th>\n",
       "      <td>2.0</td>\n",
       "      <td>2.000000</td>\n",
       "      <td>2.000000</td>\n",
       "      <td>2.000000</td>\n",
       "      <td>2</td>\n",
       "    </tr>\n",
       "    <tr>\n",
       "      <th>mean</th>\n",
       "      <td>18.0</td>\n",
       "      <td>16.500000</td>\n",
       "      <td>21.500000</td>\n",
       "      <td>35.000000</td>\n",
       "      <td>2025-06-12 01:09:00</td>\n",
       "    </tr>\n",
       "    <tr>\n",
       "      <th>min</th>\n",
       "      <td>18.0</td>\n",
       "      <td>16.000000</td>\n",
       "      <td>18.000000</td>\n",
       "      <td>30.000000</td>\n",
       "      <td>2025-06-11 18:43:00</td>\n",
       "    </tr>\n",
       "    <tr>\n",
       "      <th>25%</th>\n",
       "      <td>18.0</td>\n",
       "      <td>16.250000</td>\n",
       "      <td>19.750000</td>\n",
       "      <td>32.500000</td>\n",
       "      <td>2025-06-11 21:56:00</td>\n",
       "    </tr>\n",
       "    <tr>\n",
       "      <th>50%</th>\n",
       "      <td>18.0</td>\n",
       "      <td>16.500000</td>\n",
       "      <td>21.500000</td>\n",
       "      <td>35.000000</td>\n",
       "      <td>2025-06-12 01:09:00</td>\n",
       "    </tr>\n",
       "    <tr>\n",
       "      <th>75%</th>\n",
       "      <td>18.0</td>\n",
       "      <td>16.750000</td>\n",
       "      <td>23.250000</td>\n",
       "      <td>37.500000</td>\n",
       "      <td>2025-06-12 04:22:00</td>\n",
       "    </tr>\n",
       "    <tr>\n",
       "      <th>max</th>\n",
       "      <td>18.0</td>\n",
       "      <td>17.000000</td>\n",
       "      <td>25.000000</td>\n",
       "      <td>40.000000</td>\n",
       "      <td>2025-06-12 07:35:00</td>\n",
       "    </tr>\n",
       "    <tr>\n",
       "      <th>std</th>\n",
       "      <td>0.0</td>\n",
       "      <td>0.707107</td>\n",
       "      <td>4.949747</td>\n",
       "      <td>7.071068</td>\n",
       "      <td>NaN</td>\n",
       "    </tr>\n",
       "  </tbody>\n",
       "</table>\n",
       "</div>"
      ],
      "text/plain": [
       "       Beans before Grind (g)  Beans after Grind (g)  Pour Time (sec)  \\\n",
       "count                     2.0               2.000000         2.000000   \n",
       "mean                     18.0              16.500000        21.500000   \n",
       "min                      18.0              16.000000        18.000000   \n",
       "25%                      18.0              16.250000        19.750000   \n",
       "50%                      18.0              16.500000        21.500000   \n",
       "75%                      18.0              16.750000        23.250000   \n",
       "max                      18.0              17.000000        25.000000   \n",
       "std                       0.0               0.707107         4.949747   \n",
       "\n",
       "       Pour Weight (g)             Datetime  \n",
       "count         2.000000                    2  \n",
       "mean         35.000000  2025-06-12 01:09:00  \n",
       "min          30.000000  2025-06-11 18:43:00  \n",
       "25%          32.500000  2025-06-11 21:56:00  \n",
       "50%          35.000000  2025-06-12 01:09:00  \n",
       "75%          37.500000  2025-06-12 04:22:00  \n",
       "max          40.000000  2025-06-12 07:35:00  \n",
       "std           7.071068                  NaN  "
      ]
     },
     "execution_count": 26,
     "metadata": {},
     "output_type": "execute_result"
    }
   ],
   "source": [
    "# Import Variables\n",
    "sheetName = \"EspressoTracker\"\n",
    "sheetID = \"1QKe35mxrdCpQ37INgrker8umBf5o3EsWHfDWStIRg2s\"\n",
    "url = f\"https://docs.google.com/spreadsheets/d/{sheetID}/gviz/tq?tqx=out:csv&sheet={sheetName}\"\n",
    "\n",
    "# Importing\n",
    "esp = pd.read_csv(url)\n",
    "\n",
    "esp[\"Datetime\"] = pd.to_datetime(esp[\"Date (xx/xx/xx)\"] + \" \" + esp[\"Time (xx:xx)\"], format=\"%m/%d/%y %H:%M\")\n",
    "\n",
    "# Quick Snapshot\n",
    "esp.describe()"
   ]
  },
  {
   "cell_type": "markdown",
   "id": "c596671d",
   "metadata": {},
   "source": [
    "#### Graphs"
   ]
  },
  {
   "cell_type": "code",
   "execution_count": 27,
   "id": "5679e67e",
   "metadata": {},
   "outputs": [
    {
     "data": {
      "image/png": "[encoded data removed]",
      "text/plain": [
       "<Figure size 700x500 with 1 Axes>"
      ]
     },
     "metadata": {},
     "output_type": "display_data"
    }
   ],
   "source": [
    "# Pour time vs pour weight\n",
    "\n",
    "# Size in (x inches, y inches) and dyanmically adjust to fit all points nicely\n",
    "plt.figure(figsize=(7, 5))\n",
    "plt.tight_layout()\n",
    "\n",
    "# Scatter plot with data, x, y, color, dot size (default 20), opacity\n",
    "plt.scatter(esp[\"Pour Time (sec)\"], esp[\"Pour Weight (g)\"], c='black', s=50, alpha=1)\n",
    "\n",
    "# Labels\n",
    "plt.title(\"Pour Time vs Pour Weight\")\n",
    "plt.xlabel(\"Pour Time (sec)\")\n",
    "plt.ylabel(\"Pour Weight (g)\")\n",
    "\n",
    "plt.grid(True)\n",
    "plt.show()"
   ]
  }
 ],
 "metadata": {
  "kernelspec": {
   "display_name": "myenv",
   "language": "python",
   "name": "python3"
  },
  "language_info": {
   "codemirror_mode": {
    "name": "ipython",
    "version": 3
   },
   "file_extension": ".py",
   "mimetype": "text/x-python",
   "name": "python",
   "nbconvert_exporter": "python",
   "pygments_lexer": "ipython3",
   "version": "3.13.1"
  }
 },
 "nbformat": 4,
 "nbformat_minor": 5
}
